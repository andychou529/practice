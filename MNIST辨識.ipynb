{
 "cells": [
  {
   "cell_type": "code",
   "execution_count": 1,
   "id": "2b945a63",
   "metadata": {},
   "outputs": [
    {
     "name": "stdout",
     "output_type": "stream",
     "text": [
      "train data=  60000\n",
      "test data= 10000\n"
     ]
    }
   ],
   "source": [
    "import numpy as np \n",
    "import pandas as pd \n",
    "from keras.utils import np_utils\n",
    "np.random.seed(10)\n",
    "\n",
    "# 匯入資料\n",
    "from keras.datasets import mnist\n",
    "(x_train_image,y_train_label),(x_test_image,y_test_label)=mnist.load_data()\n",
    "print('train data= ',len(x_train_image))\n",
    "print('test data=', len(x_test_image))\n",
    "\n",
    "# train data=  60000\n",
    "# test data= 10000"
   ]
  },
  {
   "cell_type": "code",
   "execution_count": 2,
   "id": "6c3c2d41",
   "metadata": {},
   "outputs": [
    {
     "data": {
      "image/png": "[encoded data removed]",
      "text/plain": [
       "<Figure size 864x1008 with 10 Axes>"
      ]
     },
     "metadata": {},
     "output_type": "display_data"
    }
   ],
   "source": [
    "import matplotlib.pyplot as plt \n",
    "\n",
    "# 建立函數要來畫多圖的\n",
    "def plot_images_labels_prediction(images,labels,prediction,idx,num=10): \n",
    "  \n",
    "  # 設定顯示圖形的大小\n",
    "  fig= plt.gcf()\n",
    "  fig.set_size_inches(12,14)\n",
    "\n",
    "  # 最多25張\n",
    "  if num>25:num=25\n",
    "\n",
    "  # 一張一張畫\n",
    "  for i in range(0,num):\n",
    "\n",
    "    # 建立子圖形5*5(五行五列)\n",
    "    ax=plt.subplot(5,5,i+1)\n",
    "\n",
    "    # 畫出子圖形\n",
    "    ax.imshow(images[idx],cmap='binary')\n",
    "\n",
    "    # 標題和label\n",
    "    title=\"label=\" +str(labels[idx])\n",
    "\n",
    "    # 如果有傳入預測結果也顯示\n",
    "    if len(prediction)>0:\n",
    "      title+=\",predict=\"+str(prediction[idx])\n",
    "\n",
    "    # 設定子圖形的標題大小\n",
    "    ax.set_title(title,fontsize=10)\n",
    "\n",
    "    # 設定不顯示刻度\n",
    "    ax.set_xticks([]);ax.set_yticks([])  \n",
    "    idx+=1\n",
    "  plt.show()  \n",
    "  \n",
    "plot_images_labels_prediction(x_train_image,y_train_label,[],0,10)  "
   ]
  },
  {
   "cell_type": "code",
   "execution_count": 3,
   "id": "8914b46d",
   "metadata": {},
   "outputs": [
    {
     "name": "stdout",
     "output_type": "stream",
     "text": [
      "train data=  60000\n",
      "test data= 10000\n"
     ]
    }
   ],
   "source": [
    "print('train data= ',len(x_train_image))\n",
    "print('test data=', len(x_test_image))"
   ]
  },
  {
   "cell_type": "code",
   "execution_count": 4,
   "id": "c49dc75e",
   "metadata": {},
   "outputs": [],
   "source": [
    "# 影像資料--------------------------------------\n",
    "# 代表 train image 總共有6萬張，每一張是28*28的圖片\n",
    "# label 也有6萬個\n",
    "# 所以要把二維的圖片矩陣先轉換成一維\n",
    "# 這裡的784是因為 28*28\n",
    "x_Train=x_train_image.reshape(60000,784).astype('float32')\n",
    "x_Test=x_test_image.reshape(10000,784).astype('float32')\n",
    "\n",
    "\n",
    "# 由於是圖片最大的是255，所以全部除以255\n",
    "x_Train_normalize=x_Train/255\n",
    "x_Test_normalize=x_Test/255\n",
    "\n",
    "# 標註資料--------------------------------------\n",
    "y_TrainOneHot=np_utils.to_categorical(y_train_label)\n",
    "y_TestOneHot=np_utils.to_categorical(y_test_label)"
   ]
  },
  {
   "cell_type": "code",
   "execution_count": 5,
   "id": "4f2b646c",
   "metadata": {},
   "outputs": [
    {
     "name": "stdout",
     "output_type": "stream",
     "text": [
      "Model: \"sequential\"\n",
      "_________________________________________________________________\n",
      " Layer (type)                Output Shape              Param #   \n",
      "=================================================================\n",
      " dense (Dense)               (None, 256)               200960    \n",
      "                                                                 \n",
      " dense_1 (Dense)             (None, 10)                2570      \n",
      "                                                                 \n",
      "=================================================================\n",
      "Total params: 203,530\n",
      "Trainable params: 203,530\n",
      "Non-trainable params: 0\n",
      "_________________________________________________________________\n",
      "None\n"
     ]
    }
   ],
   "source": [
    "from keras.models import Sequential\n",
    "from keras.layers import Dense\n",
    "\n",
    "# 建立模型\n",
    "model = Sequential()\n",
    "\n",
    "# 建立輸入層和隱藏層\n",
    "model.add(Dense(units=256,input_dim=784,kernel_initializer='normal',activation='relu'))\n",
    "# 定義隱藏層神經元個數256\n",
    "# 輸入為28*28=784 個float 數字\n",
    "# 使用 normal distribution 常態分布的亂數，初始化 weight權重 bias 偏差\n",
    "# 定義激活函數為 relu\n",
    "\n",
    "\n",
    "# 建立輸出層\n",
    "model.add(Dense(units=10,kernel_initializer='normal',activation='softmax'))\n",
    "# 定義輸出層為10個 (數字0~9)\n",
    "# 也是使用常態分佈初始化\n",
    "# 定義激活函數是 softmax\n",
    "# 這裡建立的Dense 層，不用設定 input dim ，因為keras 會自動照上一層的256設定\n",
    "\n",
    "print(model.summary())"
   ]
  },
  {
   "cell_type": "code",
   "execution_count": 6,
   "id": "442ab029",
   "metadata": {},
   "outputs": [
    {
     "name": "stdout",
     "output_type": "stream",
     "text": [
      "Epoch 1/10\n",
      "240/240 - 1s - loss: 0.4376 - accuracy: 0.8844 - val_loss: 0.2185 - val_accuracy: 0.9390 - 1s/epoch - 5ms/step\n",
      "Epoch 2/10\n",
      "240/240 - 1s - loss: 0.1882 - accuracy: 0.9464 - val_loss: 0.1568 - val_accuracy: 0.9572 - 704ms/epoch - 3ms/step\n",
      "Epoch 3/10\n",
      "240/240 - 1s - loss: 0.1344 - accuracy: 0.9622 - val_loss: 0.1267 - val_accuracy: 0.9646 - 614ms/epoch - 3ms/step\n",
      "Epoch 4/10\n",
      "240/240 - 1s - loss: 0.1023 - accuracy: 0.9710 - val_loss: 0.1081 - val_accuracy: 0.9677 - 626ms/epoch - 3ms/step\n",
      "Epoch 5/10\n",
      "240/240 - 1s - loss: 0.0811 - accuracy: 0.9773 - val_loss: 0.0971 - val_accuracy: 0.9717 - 621ms/epoch - 3ms/step\n",
      "Epoch 6/10\n",
      "240/240 - 1s - loss: 0.0667 - accuracy: 0.9812 - val_loss: 0.0899 - val_accuracy: 0.9726 - 639ms/epoch - 3ms/step\n",
      "Epoch 7/10\n",
      "240/240 - 1s - loss: 0.0541 - accuracy: 0.9850 - val_loss: 0.0866 - val_accuracy: 0.9741 - 603ms/epoch - 3ms/step\n",
      "Epoch 8/10\n",
      "240/240 - 1s - loss: 0.0455 - accuracy: 0.9881 - val_loss: 0.0862 - val_accuracy: 0.9744 - 619ms/epoch - 3ms/step\n",
      "Epoch 9/10\n",
      "240/240 - 1s - loss: 0.0384 - accuracy: 0.9899 - val_loss: 0.0838 - val_accuracy: 0.9757 - 617ms/epoch - 3ms/step\n",
      "Epoch 10/10\n",
      "240/240 - 1s - loss: 0.0308 - accuracy: 0.9923 - val_loss: 0.0779 - val_accuracy: 0.9770 - 604ms/epoch - 3ms/step\n"
     ]
    }
   ],
   "source": [
    "model.compile(loss='categorical_crossentropy',optimizer='adam',metrics=['accuracy'])\n",
    "# 模型訓練之前要用 compele 對模型進行設定\n",
    "# loss 深度學習通常用 cross entropy 交叉嫡，訓練效果較好\n",
    "# optimizer 設定訓練時依優化的方法，在深度學習使用 adam 最優化方法，最快收斂提高準確度\n",
    "# metrics 設定評估模型的方式是 accuracy 準確率\n",
    "\n",
    "# 開始訓練\n",
    "\n",
    "train_history=model.fit(x=x_Train_normalize,y=y_TrainOneHot,\n",
    "            validation_split=0.2,epochs=10,batch_size=200,verbose=2)\n",
    "# x 是訓練資料\n",
    "# y 是label 資料\n",
    "# 設定參數 validation 切0.2起來驗證\n",
    "# epoch=10 是訓練週期為10\n",
    "# batch_size=200 每一批訓練200筆資料\n",
    "# verbose =2 顯示訓練過程\n",
    "\n",
    "# 所以以上的程式會執行10次\n",
    "# 每一次執行200筆資料 ，總共訓練資料原本有60000*0.8=48000\n",
    "# 48000/200=24 要跑240批次\n",
    "# epoch 每一次訓練週期紀錄結果在 train_history 裡面"
   ]
  },
  {
   "cell_type": "code",
   "execution_count": 7,
   "id": "3c9b2f0c",
   "metadata": {},
   "outputs": [
    {
     "data": {
      "image/png": "[encoded data removed]",
      "text/plain": [
       "<Figure size 432x288 with 1 Axes>"
      ]
     },
     "metadata": {
      "needs_background": "light"
     },
     "output_type": "display_data"
    },
    {
     "data": {
      "image/png": "[encoded data removed]",
      "text/plain": [
       "<Figure size 432x288 with 1 Axes>"
      ]
     },
     "metadata": {
      "needs_background": "light"
     },
     "output_type": "display_data"
    }
   ],
   "source": [
    "\n",
    "import matplotlib.pyplot as plt\n",
    "\n",
    "def show_train_history(train_history,train,validation):\n",
    "    plt.plot(train_history.history[train])\n",
    "    plt.plot(train_history.history[validation])\n",
    "    plt.title('Train history')\n",
    "    plt.ylabel('train')\n",
    "    plt.xlabel('epoch')\n",
    "\n",
    "  # 設置圖例在左上角\n",
    "    plt.legend(['train','validation'],loc='upper left')\n",
    "    plt.show()\n",
    "\n",
    "show_train_history(train_history,'accuracy','val_accuracy')\n",
    "show_train_history(train_history,'loss','val_loss')"
   ]
  },
  {
   "cell_type": "code",
   "execution_count": 8,
   "id": "d9847e81",
   "metadata": {},
   "outputs": [
    {
     "name": "stdout",
     "output_type": "stream",
     "text": [
      "313/313 [==============================] - 0s 1ms/step - loss: 0.0671 - accuracy: 0.9797\n",
      "\n",
      "accuracy 0.9797000288963318\n"
     ]
    }
   ],
   "source": [
    "scores=model.evaluate(x_Test_normalize,y_TestOneHot)\n",
    "print()\n",
    "print('accuracy',scores[1])"
   ]
  },
  {
   "cell_type": "code",
   "execution_count": null,
   "id": "f11c7131",
   "metadata": {},
   "outputs": [],
   "source": []
  }
 ],
 "metadata": {
  "kernelspec": {
   "display_name": "Python 3 (ipykernel)",
   "language": "python",
   "name": "python3"
  },
  "language_info": {
   "codemirror_mode": {
    "name": "ipython",
    "version": 3
   },
   "file_extension": ".py",
   "mimetype": "text/x-python",
   "name": "python",
   "nbconvert_exporter": "python",
   "pygments_lexer": "ipython3",
   "version": "3.10.4"
  }
 },
 "nbformat": 4,
 "nbformat_minor": 5
}
